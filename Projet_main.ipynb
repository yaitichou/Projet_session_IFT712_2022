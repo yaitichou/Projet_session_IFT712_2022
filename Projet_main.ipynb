{
 "cells": [
  {
   "cell_type": "markdown",
   "metadata": {},
   "source": [
    "# IFT712 - Projet de fin de session\n",
    "\n",
    "## Sujet\n",
    "\n",
    "Classification de feuilles d'arbres en utilisant la bibliothèque Sklearn et comparaison des classifieurs présents dans celle-ci pour trouver le modèle adapté à l'étude des plantes. Pour ce faire, on utilisera la validation croisée et la recherche d’hyperparamètres pour chacuns des classifieurs.\n",
    "\n"
   ]
  },
  {
   "cell_type": "markdown",
   "metadata": {},
   "source": [
    "## Equipe 8 :\n"
   ]
  },
  {
   "cell_type": "markdown",
   "metadata": {},
   "source": [
    "___\n",
    "___\n",
    "\n",
    "# 0. Configuration"
   ]
  },
  {
   "cell_type": "code",
   "execution_count": 28,
   "metadata": {},
   "outputs": [],
   "source": [
    "'''\n",
    " Imporation of python libraries\n",
    "'''\n",
    "from LogisticRegression_classifieur import LogisticRegressionClassifier\n",
    "from knn_classifier import KNNClassifier\n",
    "from decision_trees_classifier import DTSClassifier\n",
    "from adaboost_classifieur import adaboostClassifier\n",
    "from svm_classifieur import svmClassifier\n",
    "from neural_network_classifier import NNClassifier\n",
    "from random_forest_classifieur import RandForestClassifier\n",
    "from data_manager import data_extract\n",
    "from data_manager import data_cleaning\n",
    "import utils\n",
    "import utils_affichage\n",
    "import numpy as np\n",
    "import pandas as pd\n",
    "import matplotlib.pyplot as plt\n",
    "\n",
    "from sklearn.preprocessing import LabelBinarizer\n",
    "from sklearn.model_selection import train_test_split"
   ]
  },
  {
   "cell_type": "markdown",
   "metadata": {},
   "source": [
    "___\n",
    "___\n",
    "\n",
    "# 1. Préparation des données\n",
    "\n",
    "On utilise les données de classification de feuilles du site [Kaggle](https://www.kaggle.com/c/leaf-classification/data).\n",
    "Les données sont composées de 2 ensembles (train et test). \n",
    "\n",
    "Chaque échantillons est caractérisé par :\n",
    "- un id unique par image \n",
    "- 64 attributs pour la marge de la feuille\n",
    "- 64 attributs pour la forme de la feuille\n",
    "- 64 attributs pour la texture de la feuille"
   ]
  },
  {
   "cell_type": "code",
   "execution_count": 2,
   "metadata": {},
   "outputs": [
    {
     "name": "stdout",
     "output_type": "stream",
     "text": [
      "      margin1   margin2   margin3   margin4   margin5   margin6   margin7  \\\n",
      "0    0.007812  0.023438  0.023438  0.003906  0.011719  0.009766  0.027344   \n",
      "1    0.005859         0   0.03125  0.015625  0.025391  0.001953  0.019531   \n",
      "2    0.005859  0.009766  0.019531  0.007812  0.003906  0.005859  0.068359   \n",
      "3           0  0.003906  0.023438  0.005859  0.021484  0.019531  0.023438   \n",
      "4    0.005859  0.003906  0.048828  0.009766  0.013672  0.015625  0.005859   \n",
      "..        ...       ...       ...       ...       ...       ...       ...   \n",
      "985  0.060547   0.11914  0.007812  0.003906         0   0.14844  0.017578   \n",
      "986  0.001953  0.003906  0.021484   0.10742  0.001953         0         0   \n",
      "987  0.001953  0.003906         0  0.021484  0.078125  0.003906  0.007812   \n",
      "988         0         0  0.046875  0.056641  0.009766         0         0   \n",
      "989  0.023438  0.019531   0.03125  0.015625  0.005859  0.019531  0.035156   \n",
      "\n",
      "    margin8   margin9  margin10  ... texture55 texture56 texture57 texture58  \\\n",
      "0         0  0.001953  0.033203  ...  0.007812         0   0.00293   0.00293   \n",
      "1         0         0  0.007812  ...  0.000977         0         0  0.000977   \n",
      "2         0         0  0.044922  ...    0.1543         0  0.005859  0.000977   \n",
      "3         0  0.013672  0.017578  ...         0  0.000977         0         0   \n",
      "4         0         0  0.005859  ...   0.09668         0  0.021484         0   \n",
      "..      ...       ...       ...  ...       ...       ...       ...       ...   \n",
      "985       0  0.001953  0.042969  ...   0.24219         0   0.03418         0   \n",
      "986       0  0.029297  0.003906  ...    0.1709         0  0.018555         0   \n",
      "987       0  0.003906         0  ...  0.004883  0.000977  0.004883  0.027344   \n",
      "988       0  0.037109  0.001953  ...  0.083008  0.030273  0.000977   0.00293   \n",
      "989       0  0.003906  0.039062  ...         0         0   0.00293         0   \n",
      "\n",
      "    texture59 texture60 texture61 texture62 texture63 texture64  \n",
      "0    0.035156         0         0  0.004883         0  0.025391  \n",
      "1    0.023438         0         0  0.000977  0.039062  0.022461  \n",
      "2    0.007812         0         0         0  0.020508   0.00293  \n",
      "3    0.020508         0         0  0.017578         0  0.047852  \n",
      "4           0         0         0         0         0   0.03125  \n",
      "..        ...       ...       ...       ...       ...       ...  \n",
      "985  0.010742         0         0         0         0  0.018555  \n",
      "986  0.011719         0         0  0.000977         0  0.021484  \n",
      "987  0.016602  0.007812         0  0.027344         0  0.001953  \n",
      "988  0.014648         0  0.041992         0  0.001953   0.00293  \n",
      "989  0.012695         0         0  0.023438  0.025391  0.022461  \n",
      "\n",
      "[990 rows x 192 columns]\n"
     ]
    }
   ],
   "source": [
    "data_path_train = './data/train.csv'\n",
    "data_path_test = './data/test.csv'\n",
    "\n",
    "#Extract data for training dataset\n",
    "data_attributes_train, data_train_df, ids_train, labels = data_extract(data_path_train,dataset = \"train\")\n",
    "\n",
    "#Extract data for testing dataset\n",
    "res = data_extract(data_path_test,dataset = \"test\")\n",
    "data_attributes_test = res[0]\n",
    "data_test_df = res[1]\n",
    "ids_test = res[2]\n",
    "\n",
    "#Clean data\n",
    "print(data_train_df)"
   ]
  },
  {
   "cell_type": "code",
   "execution_count": 13,
   "metadata": {},
   "outputs": [
    {
     "data": {
      "text/html": [
       "<div>\n",
       "<style scoped>\n",
       "    .dataframe tbody tr th:only-of-type {\n",
       "        vertical-align: middle;\n",
       "    }\n",
       "\n",
       "    .dataframe tbody tr th {\n",
       "        vertical-align: top;\n",
       "    }\n",
       "\n",
       "    .dataframe thead th {\n",
       "        text-align: right;\n",
       "    }\n",
       "</style>\n",
       "<table border=\"1\" class=\"dataframe\">\n",
       "  <thead>\n",
       "    <tr style=\"text-align: right;\">\n",
       "      <th></th>\n",
       "      <th>species</th>\n",
       "      <th>margin1</th>\n",
       "      <th>margin2</th>\n",
       "      <th>margin3</th>\n",
       "      <th>margin4</th>\n",
       "      <th>margin5</th>\n",
       "      <th>margin6</th>\n",
       "      <th>margin7</th>\n",
       "      <th>margin8</th>\n",
       "      <th>margin9</th>\n",
       "      <th>...</th>\n",
       "      <th>texture55</th>\n",
       "      <th>texture56</th>\n",
       "      <th>texture57</th>\n",
       "      <th>texture58</th>\n",
       "      <th>texture59</th>\n",
       "      <th>texture60</th>\n",
       "      <th>texture61</th>\n",
       "      <th>texture62</th>\n",
       "      <th>texture63</th>\n",
       "      <th>texture64</th>\n",
       "    </tr>\n",
       "    <tr>\n",
       "      <th>id</th>\n",
       "      <th></th>\n",
       "      <th></th>\n",
       "      <th></th>\n",
       "      <th></th>\n",
       "      <th></th>\n",
       "      <th></th>\n",
       "      <th></th>\n",
       "      <th></th>\n",
       "      <th></th>\n",
       "      <th></th>\n",
       "      <th></th>\n",
       "      <th></th>\n",
       "      <th></th>\n",
       "      <th></th>\n",
       "      <th></th>\n",
       "      <th></th>\n",
       "      <th></th>\n",
       "      <th></th>\n",
       "      <th></th>\n",
       "      <th></th>\n",
       "      <th></th>\n",
       "    </tr>\n",
       "  </thead>\n",
       "  <tbody>\n",
       "    <tr>\n",
       "      <th>1</th>\n",
       "      <td>Acer_Opalus</td>\n",
       "      <td>0.007812</td>\n",
       "      <td>0.023438</td>\n",
       "      <td>0.023438</td>\n",
       "      <td>0.003906</td>\n",
       "      <td>0.011719</td>\n",
       "      <td>0.009766</td>\n",
       "      <td>0.027344</td>\n",
       "      <td>0.0</td>\n",
       "      <td>0.001953</td>\n",
       "      <td>...</td>\n",
       "      <td>0.007812</td>\n",
       "      <td>0.000000</td>\n",
       "      <td>0.002930</td>\n",
       "      <td>0.002930</td>\n",
       "      <td>0.035156</td>\n",
       "      <td>0.000000</td>\n",
       "      <td>0.000000</td>\n",
       "      <td>0.004883</td>\n",
       "      <td>0.000000</td>\n",
       "      <td>0.025391</td>\n",
       "    </tr>\n",
       "    <tr>\n",
       "      <th>2</th>\n",
       "      <td>Pterocarya_Stenoptera</td>\n",
       "      <td>0.005859</td>\n",
       "      <td>0.000000</td>\n",
       "      <td>0.031250</td>\n",
       "      <td>0.015625</td>\n",
       "      <td>0.025391</td>\n",
       "      <td>0.001953</td>\n",
       "      <td>0.019531</td>\n",
       "      <td>0.0</td>\n",
       "      <td>0.000000</td>\n",
       "      <td>...</td>\n",
       "      <td>0.000977</td>\n",
       "      <td>0.000000</td>\n",
       "      <td>0.000000</td>\n",
       "      <td>0.000977</td>\n",
       "      <td>0.023438</td>\n",
       "      <td>0.000000</td>\n",
       "      <td>0.000000</td>\n",
       "      <td>0.000977</td>\n",
       "      <td>0.039062</td>\n",
       "      <td>0.022461</td>\n",
       "    </tr>\n",
       "    <tr>\n",
       "      <th>3</th>\n",
       "      <td>Quercus_Hartwissiana</td>\n",
       "      <td>0.005859</td>\n",
       "      <td>0.009766</td>\n",
       "      <td>0.019531</td>\n",
       "      <td>0.007812</td>\n",
       "      <td>0.003906</td>\n",
       "      <td>0.005859</td>\n",
       "      <td>0.068359</td>\n",
       "      <td>0.0</td>\n",
       "      <td>0.000000</td>\n",
       "      <td>...</td>\n",
       "      <td>0.154300</td>\n",
       "      <td>0.000000</td>\n",
       "      <td>0.005859</td>\n",
       "      <td>0.000977</td>\n",
       "      <td>0.007812</td>\n",
       "      <td>0.000000</td>\n",
       "      <td>0.000000</td>\n",
       "      <td>0.000000</td>\n",
       "      <td>0.020508</td>\n",
       "      <td>0.002930</td>\n",
       "    </tr>\n",
       "    <tr>\n",
       "      <th>5</th>\n",
       "      <td>Tilia_Tomentosa</td>\n",
       "      <td>0.000000</td>\n",
       "      <td>0.003906</td>\n",
       "      <td>0.023438</td>\n",
       "      <td>0.005859</td>\n",
       "      <td>0.021484</td>\n",
       "      <td>0.019531</td>\n",
       "      <td>0.023438</td>\n",
       "      <td>0.0</td>\n",
       "      <td>0.013672</td>\n",
       "      <td>...</td>\n",
       "      <td>0.000000</td>\n",
       "      <td>0.000977</td>\n",
       "      <td>0.000000</td>\n",
       "      <td>0.000000</td>\n",
       "      <td>0.020508</td>\n",
       "      <td>0.000000</td>\n",
       "      <td>0.000000</td>\n",
       "      <td>0.017578</td>\n",
       "      <td>0.000000</td>\n",
       "      <td>0.047852</td>\n",
       "    </tr>\n",
       "    <tr>\n",
       "      <th>6</th>\n",
       "      <td>Quercus_Variabilis</td>\n",
       "      <td>0.005859</td>\n",
       "      <td>0.003906</td>\n",
       "      <td>0.048828</td>\n",
       "      <td>0.009766</td>\n",
       "      <td>0.013672</td>\n",
       "      <td>0.015625</td>\n",
       "      <td>0.005859</td>\n",
       "      <td>0.0</td>\n",
       "      <td>0.000000</td>\n",
       "      <td>...</td>\n",
       "      <td>0.096680</td>\n",
       "      <td>0.000000</td>\n",
       "      <td>0.021484</td>\n",
       "      <td>0.000000</td>\n",
       "      <td>0.000000</td>\n",
       "      <td>0.000000</td>\n",
       "      <td>0.000000</td>\n",
       "      <td>0.000000</td>\n",
       "      <td>0.000000</td>\n",
       "      <td>0.031250</td>\n",
       "    </tr>\n",
       "    <tr>\n",
       "      <th>...</th>\n",
       "      <td>...</td>\n",
       "      <td>...</td>\n",
       "      <td>...</td>\n",
       "      <td>...</td>\n",
       "      <td>...</td>\n",
       "      <td>...</td>\n",
       "      <td>...</td>\n",
       "      <td>...</td>\n",
       "      <td>...</td>\n",
       "      <td>...</td>\n",
       "      <td>...</td>\n",
       "      <td>...</td>\n",
       "      <td>...</td>\n",
       "      <td>...</td>\n",
       "      <td>...</td>\n",
       "      <td>...</td>\n",
       "      <td>...</td>\n",
       "      <td>...</td>\n",
       "      <td>...</td>\n",
       "      <td>...</td>\n",
       "      <td>...</td>\n",
       "    </tr>\n",
       "    <tr>\n",
       "      <th>1575</th>\n",
       "      <td>Magnolia_Salicifolia</td>\n",
       "      <td>0.060547</td>\n",
       "      <td>0.119140</td>\n",
       "      <td>0.007812</td>\n",
       "      <td>0.003906</td>\n",
       "      <td>0.000000</td>\n",
       "      <td>0.148440</td>\n",
       "      <td>0.017578</td>\n",
       "      <td>0.0</td>\n",
       "      <td>0.001953</td>\n",
       "      <td>...</td>\n",
       "      <td>0.242190</td>\n",
       "      <td>0.000000</td>\n",
       "      <td>0.034180</td>\n",
       "      <td>0.000000</td>\n",
       "      <td>0.010742</td>\n",
       "      <td>0.000000</td>\n",
       "      <td>0.000000</td>\n",
       "      <td>0.000000</td>\n",
       "      <td>0.000000</td>\n",
       "      <td>0.018555</td>\n",
       "    </tr>\n",
       "    <tr>\n",
       "      <th>1578</th>\n",
       "      <td>Acer_Pictum</td>\n",
       "      <td>0.001953</td>\n",
       "      <td>0.003906</td>\n",
       "      <td>0.021484</td>\n",
       "      <td>0.107420</td>\n",
       "      <td>0.001953</td>\n",
       "      <td>0.000000</td>\n",
       "      <td>0.000000</td>\n",
       "      <td>0.0</td>\n",
       "      <td>0.029297</td>\n",
       "      <td>...</td>\n",
       "      <td>0.170900</td>\n",
       "      <td>0.000000</td>\n",
       "      <td>0.018555</td>\n",
       "      <td>0.000000</td>\n",
       "      <td>0.011719</td>\n",
       "      <td>0.000000</td>\n",
       "      <td>0.000000</td>\n",
       "      <td>0.000977</td>\n",
       "      <td>0.000000</td>\n",
       "      <td>0.021484</td>\n",
       "    </tr>\n",
       "    <tr>\n",
       "      <th>1581</th>\n",
       "      <td>Alnus_Maximowiczii</td>\n",
       "      <td>0.001953</td>\n",
       "      <td>0.003906</td>\n",
       "      <td>0.000000</td>\n",
       "      <td>0.021484</td>\n",
       "      <td>0.078125</td>\n",
       "      <td>0.003906</td>\n",
       "      <td>0.007812</td>\n",
       "      <td>0.0</td>\n",
       "      <td>0.003906</td>\n",
       "      <td>...</td>\n",
       "      <td>0.004883</td>\n",
       "      <td>0.000977</td>\n",
       "      <td>0.004883</td>\n",
       "      <td>0.027344</td>\n",
       "      <td>0.016602</td>\n",
       "      <td>0.007812</td>\n",
       "      <td>0.000000</td>\n",
       "      <td>0.027344</td>\n",
       "      <td>0.000000</td>\n",
       "      <td>0.001953</td>\n",
       "    </tr>\n",
       "    <tr>\n",
       "      <th>1582</th>\n",
       "      <td>Quercus_Rubra</td>\n",
       "      <td>0.000000</td>\n",
       "      <td>0.000000</td>\n",
       "      <td>0.046875</td>\n",
       "      <td>0.056641</td>\n",
       "      <td>0.009766</td>\n",
       "      <td>0.000000</td>\n",
       "      <td>0.000000</td>\n",
       "      <td>0.0</td>\n",
       "      <td>0.037109</td>\n",
       "      <td>...</td>\n",
       "      <td>0.083008</td>\n",
       "      <td>0.030273</td>\n",
       "      <td>0.000977</td>\n",
       "      <td>0.002930</td>\n",
       "      <td>0.014648</td>\n",
       "      <td>0.000000</td>\n",
       "      <td>0.041992</td>\n",
       "      <td>0.000000</td>\n",
       "      <td>0.001953</td>\n",
       "      <td>0.002930</td>\n",
       "    </tr>\n",
       "    <tr>\n",
       "      <th>1584</th>\n",
       "      <td>Quercus_Afares</td>\n",
       "      <td>0.023438</td>\n",
       "      <td>0.019531</td>\n",
       "      <td>0.031250</td>\n",
       "      <td>0.015625</td>\n",
       "      <td>0.005859</td>\n",
       "      <td>0.019531</td>\n",
       "      <td>0.035156</td>\n",
       "      <td>0.0</td>\n",
       "      <td>0.003906</td>\n",
       "      <td>...</td>\n",
       "      <td>0.000000</td>\n",
       "      <td>0.000000</td>\n",
       "      <td>0.002930</td>\n",
       "      <td>0.000000</td>\n",
       "      <td>0.012695</td>\n",
       "      <td>0.000000</td>\n",
       "      <td>0.000000</td>\n",
       "      <td>0.023438</td>\n",
       "      <td>0.025391</td>\n",
       "      <td>0.022461</td>\n",
       "    </tr>\n",
       "  </tbody>\n",
       "</table>\n",
       "<p>990 rows × 193 columns</p>\n",
       "</div>"
      ],
      "text/plain": [
       "                    species   margin1   margin2   margin3   margin4   margin5  \\\n",
       "id                                                                              \n",
       "1               Acer_Opalus  0.007812  0.023438  0.023438  0.003906  0.011719   \n",
       "2     Pterocarya_Stenoptera  0.005859  0.000000  0.031250  0.015625  0.025391   \n",
       "3      Quercus_Hartwissiana  0.005859  0.009766  0.019531  0.007812  0.003906   \n",
       "5           Tilia_Tomentosa  0.000000  0.003906  0.023438  0.005859  0.021484   \n",
       "6        Quercus_Variabilis  0.005859  0.003906  0.048828  0.009766  0.013672   \n",
       "...                     ...       ...       ...       ...       ...       ...   \n",
       "1575   Magnolia_Salicifolia  0.060547  0.119140  0.007812  0.003906  0.000000   \n",
       "1578            Acer_Pictum  0.001953  0.003906  0.021484  0.107420  0.001953   \n",
       "1581     Alnus_Maximowiczii  0.001953  0.003906  0.000000  0.021484  0.078125   \n",
       "1582          Quercus_Rubra  0.000000  0.000000  0.046875  0.056641  0.009766   \n",
       "1584         Quercus_Afares  0.023438  0.019531  0.031250  0.015625  0.005859   \n",
       "\n",
       "       margin6   margin7  margin8   margin9  ...  texture55  texture56  \\\n",
       "id                                           ...                         \n",
       "1     0.009766  0.027344      0.0  0.001953  ...   0.007812   0.000000   \n",
       "2     0.001953  0.019531      0.0  0.000000  ...   0.000977   0.000000   \n",
       "3     0.005859  0.068359      0.0  0.000000  ...   0.154300   0.000000   \n",
       "5     0.019531  0.023438      0.0  0.013672  ...   0.000000   0.000977   \n",
       "6     0.015625  0.005859      0.0  0.000000  ...   0.096680   0.000000   \n",
       "...        ...       ...      ...       ...  ...        ...        ...   \n",
       "1575  0.148440  0.017578      0.0  0.001953  ...   0.242190   0.000000   \n",
       "1578  0.000000  0.000000      0.0  0.029297  ...   0.170900   0.000000   \n",
       "1581  0.003906  0.007812      0.0  0.003906  ...   0.004883   0.000977   \n",
       "1582  0.000000  0.000000      0.0  0.037109  ...   0.083008   0.030273   \n",
       "1584  0.019531  0.035156      0.0  0.003906  ...   0.000000   0.000000   \n",
       "\n",
       "      texture57  texture58  texture59  texture60  texture61  texture62  \\\n",
       "id                                                                       \n",
       "1      0.002930   0.002930   0.035156   0.000000   0.000000   0.004883   \n",
       "2      0.000000   0.000977   0.023438   0.000000   0.000000   0.000977   \n",
       "3      0.005859   0.000977   0.007812   0.000000   0.000000   0.000000   \n",
       "5      0.000000   0.000000   0.020508   0.000000   0.000000   0.017578   \n",
       "6      0.021484   0.000000   0.000000   0.000000   0.000000   0.000000   \n",
       "...         ...        ...        ...        ...        ...        ...   \n",
       "1575   0.034180   0.000000   0.010742   0.000000   0.000000   0.000000   \n",
       "1578   0.018555   0.000000   0.011719   0.000000   0.000000   0.000977   \n",
       "1581   0.004883   0.027344   0.016602   0.007812   0.000000   0.027344   \n",
       "1582   0.000977   0.002930   0.014648   0.000000   0.041992   0.000000   \n",
       "1584   0.002930   0.000000   0.012695   0.000000   0.000000   0.023438   \n",
       "\n",
       "      texture63  texture64  \n",
       "id                          \n",
       "1      0.000000   0.025391  \n",
       "2      0.039062   0.022461  \n",
       "3      0.020508   0.002930  \n",
       "5      0.000000   0.047852  \n",
       "6      0.000000   0.031250  \n",
       "...         ...        ...  \n",
       "1575   0.000000   0.018555  \n",
       "1578   0.000000   0.021484  \n",
       "1581   0.000000   0.001953  \n",
       "1582   0.001953   0.002930  \n",
       "1584   0.025391   0.022461  \n",
       "\n",
       "[990 rows x 193 columns]"
      ]
     },
     "metadata": {},
     "output_type": "display_data"
    }
   ],
   "source": [
    "# Dataset Preparation\n",
    "# Training data \n",
    "data_train = pd.read_csv(\"./data/train.csv\")\n",
    "data_train.set_index(\"id\", inplace=True)\n",
    "\n",
    "# Test data\n",
    "data_test = pd.read_csv(\"./data/test.csv\")\n",
    "data_test.set_index(\"id\", inplace=True)\n",
    "\n",
    "display(data_train)\n",
    "\n",
    "# Separation of caracteristiques/tragets of data\n",
    "# Training data \n",
    "y_train = data_train[\"species\"]\n",
    "X_train = data_train.drop([\"species\"], axis=1)\n",
    "\n",
    "# Test data (no target column)\n",
    "X_test = data_test.copy()\n",
    "\n",
    "# Encoding \"One-hot\" for training targets \n",
    "class_names = np.unique(y_train)\n",
    "lblBin = LabelBinarizer().fit(y_train)\n",
    "\n",
    "#Data normalization\n",
    "# Training data \n",
    "mean = np.mean(X_train, axis=0)\n",
    "std = np.std(X_train, axis=0)\n",
    "X_train = (X_train - mean) / std\n",
    "\n",
    "# Test data\n",
    "X_test = (X_test - mean) / std\n",
    "\n",
    "# Splitting the training data for validation\n",
    "val_perc = 0.3\n",
    "X_train, X_val, y_train, y_val = train_test_split(X_train, y_train, test_size=val_perc, random_state=0, shuffle=True)\n",
    "\n",
    "# Encoding targets \"one-hot\"\n",
    "y_train_not_bin = y_train.copy()\n",
    "y_train = lblBin.transform(y_train)\n",
    "y_val_not_bin = y_val.copy()\n",
    "y_val = lblBin.transform(y_val)\n"
   ]
  },
  {
   "cell_type": "markdown",
   "metadata": {},
   "source": [
    "___\n",
    "___\n",
    "\n",
    "# 2. Classification\n",
    "\n",
    "Dans cette partie nous allons mettre en place 6 classifieurs :\n",
    "- Random Forest\n",
    "- Neural Network\n",
    "- SVM\n",
    "- AdaBoost\n",
    "- Decision Tree\n",
    "- KNeighbors\n",
    "- Regression linéaire\n"
   ]
  },
  {
   "cell_type": "code",
   "execution_count": 3,
   "metadata": {},
   "outputs": [],
   "source": [
    "# Resultat for Visual Comparison\n",
    "accu_dict = {}\n",
    "\n",
    "# Dictionary  of labels for test preditions and list of score fonctions\n",
    "pred_dict = {}\n",
    "scorers = {\"Accuracy\": 'accuracy', \"Precision\": 'precision_micro', \"F1\": 'f1_micro'}\n"
   ]
  },
  {
   "cell_type": "markdown",
   "metadata": {},
   "source": [
    "___\n",
    "\n",
    "\n",
    "## Classifieur par Random Forest\n",
    "Une `random forest` est un estimateur qui utilise plusieurs arbres de décision pour palier à la tendance de sur-apprentissage de ceux-ci. Chaque arbre apprend sur les données d'entrée avec des paramètres différents puis l'estimateur classe les points par la probabilité la plus haute pour tout les arbres.\n"
   ]
  },
  {
   "cell_type": "markdown",
   "metadata": {},
   "source": [
    "___\n",
    "\n",
    "## Classifieur par réseau de neurones\n",
    "Un réseau de neurones est un algorithme d’apprentissage supervisé de plusiers fonctions d’apprentissage. Il calcule la prédiction et la compare avec la valeur de y à l'aide de la fonction de coût et l'erreur est propagé en arrière afin de mettre à jour les poids des différentes fonctions."
   ]
  },
  {
   "cell_type": "markdown",
   "metadata": {},
   "source": [
    "___\n",
    "\n",
    "\n",
    "## Classifieur par SVM\n",
    "Les machines à vecteurs support (SVM) sont des algorithmes d’apprentissage supervisé  utilisées pour la classification et la régression. Elles reposent souvent sur l’utilisation de noyaux qui permettent de transformer l’espace de représentation des données d’entrées en un espace de plus grande dimension, dans lequel il existe une séparation linéaire, le but est de maximiser la distance entre les groupes de données."
   ]
  },
  {
   "cell_type": "markdown",
   "metadata": {},
   "source": [
    "___\n",
    "\n",
    "\n",
    "## Classifieur par Adaboost\n",
    "L’adaptative boosting est un algorithme de boosting qui regroupe plusieurs classifieurs faibles en leur donnant un poids selon leurs performances pour en faire un classifieur fort."
   ]
  },
  {
   "cell_type": "markdown",
   "metadata": {},
   "source": [
    "### Adaboost - Entrainement\n",
    "\n",
    "On entraine sans la recherche d hyper-parametres."
   ]
  },
  {
   "cell_type": "code",
   "execution_count": 14,
   "metadata": {},
   "outputs": [
    {
     "name": "stdout",
     "output_type": "stream",
     "text": [
      "Accuracy train: 100.000%\n",
      "Accuracy validation: 62.963%\n"
     ]
    }
   ],
   "source": [
    "model = adaboostClassifier(X_train, y_train, X_val, y_val, class_names, scorers)\n",
    "accu_train, accu_val = model.train_sans_grid()\n",
    "\n",
    "print('Accuracy train: {:.3%}'.format(accu_train))\n",
    "print('Accuracy validation: {:.3%}'.format(accu_val))\n"
   ]
  },
  {
   "cell_type": "markdown",
   "metadata": {},
   "source": [
    "### Adaboost - Recherche hyper-paramètres\n",
    "\n",
    "On fait une recherche d'hyper-paramètres sur :\n",
    "- `estimator__n_estimators` :  nombre de modèles à entraîner de manière itérative\n",
    "- `estimator__learning_rate` : contribution de chaque modèle aux pondérations"
   ]
  },
  {
   "cell_type": "code",
   "execution_count": 15,
   "metadata": {},
   "outputs": [
    {
     "name": "stdout",
     "output_type": "stream",
     "text": [
      "Using randomized search:\n",
      "Fitting 5 folds for each of 10 candidates, totalling 50 fits\n"
     ]
    }
   ],
   "source": [
    "adaboost_param = {\n",
    "    'estimator__n_estimators': np.arange(10, 100, 10),\n",
    "    'estimator__learning_rate': [0.01, 0.05, 0.1, 1],\n",
    "}\n",
    "\n",
    "model = adaboostClassifier(X_train, y_train, X_val, y_val, class_names, scorers)\n",
    "accu_train_hyperparm, accu_val_hyperparm, best_estimator, best_accu = model.train(adaboost_param, random_search=True)"
   ]
  },
  {
   "cell_type": "code",
   "execution_count": 16,
   "metadata": {},
   "outputs": [
    {
     "name": "stdout",
     "output_type": "stream",
     "text": [
      "best_cross_val_acc : 0.5483265561463873\n",
      "\n",
      "Best estimator:\n",
      "MultiOutputClassifier(estimator=AdaBoostClassifier(learning_rate=1,\n",
      "                                                   n_estimators=70),\n",
      "                      n_jobs=4)\n",
      "[Estimator parameters]\n"
     ]
    },
    {
     "data": {
      "text/plain": [
       "{'estimator__algorithm': 'SAMME.R',\n",
       " 'estimator__base_estimator': None,\n",
       " 'estimator__learning_rate': 1,\n",
       " 'estimator__n_estimators': 70,\n",
       " 'estimator__random_state': None,\n",
       " 'estimator': AdaBoostClassifier(learning_rate=1, n_estimators=70),\n",
       " 'n_jobs': 4}"
      ]
     },
     "metadata": {},
     "output_type": "display_data"
    },
    {
     "name": "stdout",
     "output_type": "stream",
     "text": [
      "Accuracy train: 100.000%\n",
      "Accuracy validation: 64.646%\n"
     ]
    }
   ],
   "source": [
    "print('best_cross_val_acc : {}'.format(best_accu))\n",
    "print('\\nBest estimator:\\n{}'.format(best_estimator))\n",
    "\n",
    "print(\"[Estimator parameters]\")\n",
    "display(model.estimator.get_params())\n",
    "\n",
    "print('Accuracy train: {:.3%}'.format(accu_train_hyperparm))\n",
    "print('Accuracy validation: {:.3%}'.format(accu_val_hyperparm))"
   ]
  },
  {
   "cell_type": "code",
   "execution_count": 17,
   "metadata": {},
   "outputs": [],
   "source": [
    "# Append accuracy percentage for visual comparison\n",
    "accu_dict[\"AdaBoost\"] = accu_val_hyperparm*100"
   ]
  },
  {
   "cell_type": "markdown",
   "metadata": {},
   "source": [
    "### Adaboost - Prédiction des valeurs de test\n",
    "\n",
    "On peut alors prédire les classes pour l'ensemble de données de test."
   ]
  },
  {
   "cell_type": "code",
   "execution_count": 18,
   "metadata": {},
   "outputs": [
    {
     "data": {
      "text/html": [
       "<div>\n",
       "<style scoped>\n",
       "    .dataframe tbody tr th:only-of-type {\n",
       "        vertical-align: middle;\n",
       "    }\n",
       "\n",
       "    .dataframe tbody tr th {\n",
       "        vertical-align: top;\n",
       "    }\n",
       "\n",
       "    .dataframe thead th {\n",
       "        text-align: right;\n",
       "    }\n",
       "</style>\n",
       "<table border=\"1\" class=\"dataframe\">\n",
       "  <thead>\n",
       "    <tr style=\"text-align: right;\">\n",
       "      <th></th>\n",
       "      <th>AdaBoost</th>\n",
       "    </tr>\n",
       "  </thead>\n",
       "  <tbody>\n",
       "    <tr>\n",
       "      <th>0</th>\n",
       "      <td>Acer_Capillipes</td>\n",
       "    </tr>\n",
       "    <tr>\n",
       "      <th>1</th>\n",
       "      <td>Quercus_Afares</td>\n",
       "    </tr>\n",
       "    <tr>\n",
       "      <th>2</th>\n",
       "      <td>Acer_Circinatum</td>\n",
       "    </tr>\n",
       "    <tr>\n",
       "      <th>3</th>\n",
       "      <td>Acer_Capillipes</td>\n",
       "    </tr>\n",
       "    <tr>\n",
       "      <th>4</th>\n",
       "      <td>Alnus_Viridis</td>\n",
       "    </tr>\n",
       "    <tr>\n",
       "      <th>...</th>\n",
       "      <td>...</td>\n",
       "    </tr>\n",
       "    <tr>\n",
       "      <th>589</th>\n",
       "      <td>Acer_Circinatum</td>\n",
       "    </tr>\n",
       "    <tr>\n",
       "      <th>590</th>\n",
       "      <td>Acer_Capillipes</td>\n",
       "    </tr>\n",
       "    <tr>\n",
       "      <th>591</th>\n",
       "      <td>Quercus_Canariensis</td>\n",
       "    </tr>\n",
       "    <tr>\n",
       "      <th>592</th>\n",
       "      <td>Acer_Capillipes</td>\n",
       "    </tr>\n",
       "    <tr>\n",
       "      <th>593</th>\n",
       "      <td>Acer_Capillipes</td>\n",
       "    </tr>\n",
       "  </tbody>\n",
       "</table>\n",
       "<p>594 rows × 1 columns</p>\n",
       "</div>"
      ],
      "text/plain": [
       "                AdaBoost\n",
       "0        Acer_Capillipes\n",
       "1         Quercus_Afares\n",
       "2        Acer_Circinatum\n",
       "3        Acer_Capillipes\n",
       "4          Alnus_Viridis\n",
       "..                   ...\n",
       "589      Acer_Circinatum\n",
       "590      Acer_Capillipes\n",
       "591  Quercus_Canariensis\n",
       "592      Acer_Capillipes\n",
       "593      Acer_Capillipes\n",
       "\n",
       "[594 rows x 1 columns]"
      ]
     },
     "metadata": {},
     "output_type": "display_data"
    }
   ],
   "source": [
    "adaboost_pred = model.predict(X_test)\n",
    "adaboost_pred_label = lblBin.inverse_transform(adaboost_pred)\n",
    "\n",
    "pred_dict[\"AdaBoost\"] = adaboost_pred_label\n",
    "df_pred = pd.DataFrame.from_dict(pred_dict)\n",
    "display(df_pred)\n"
   ]
  },
  {
   "cell_type": "markdown",
   "metadata": {},
   "source": [
    "### Adaboost - Affichage des courbes d'apprentissage\n",
    "\n",
    "On peut afficher les courbes d'apprentissage du modèle si on ne fait varier qu'un seul hyper parametre par une recherche complete."
   ]
  },
  {
   "cell_type": "code",
   "execution_count": 19,
   "metadata": {},
   "outputs": [
    {
     "name": "stdout",
     "output_type": "stream",
     "text": [
      "Using complet search:\n",
      "Fitting 5 folds for each of 9 candidates, totalling 45 fits\n"
     ]
    },
    {
     "data": {
      "text/plain": [
       "(1.0,\n",
       " 0.6363636363636364,\n",
       " MultiOutputClassifier(estimator=AdaBoostClassifier(n_estimators=60), n_jobs=4),\n",
       " 0.5483474090292983)"
      ]
     },
     "execution_count": 19,
     "metadata": {},
     "output_type": "execute_result"
    }
   ],
   "source": [
    "Ada_param = {\n",
    "    'estimator__n_estimators': np.arange(10, 100, 10)\n",
    "}\n",
    "model = adaboostClassifier(X_train, y_train, X_val, y_val, class_names, scorers)\n",
    "model.train(Ada_param, random_search=False)\n"
   ]
  },
  {
   "cell_type": "code",
   "execution_count": 35,
   "metadata": {},
   "outputs": [
    {
     "name": "stdout",
     "output_type": "stream",
     "text": [
      "Model with rank: 1\n",
      "Mean validation Accuracy: 0.548 (std: 0.046)\n",
      "Parameters: {'estimator__n_estimators': 60}\n",
      "\n",
      "Model with rank: 2\n",
      "Mean validation Accuracy: 0.540 (std: 0.029)\n",
      "Parameters: {'estimator__n_estimators': 80}\n",
      "\n"
     ]
    },
    {
     "data": {
      "text/plain": [
       "precision      0.929907\n",
       "recall         0.670034\n",
       "f1-score       0.778865\n",
       "support      297.000000\n",
       "Name: micro avg, dtype: float64"
      ]
     },
     "metadata": {},
     "output_type": "display_data"
    },
    {
     "data": {
      "image/png": "[encoded data removed]",
      "text/plain": [
       "<Figure size 936x576 with 1 Axes>"
      ]
     },
     "metadata": {
      "needs_background": "light"
     },
     "output_type": "display_data"
    }
   ],
   "source": [
    "\n",
    "\n",
    "aff_Ada = utils_affichage.Affichage(model)\n",
    "\n",
    "#display(aff_Ada.hyper_results())\n",
    "\n",
    "aff_Ada.best_estimators(n_top=2)\n",
    "\n",
    "y_val_pred = model.predict(X_val)\n",
    "display(aff_Ada.class_report(y_val, y_val_pred, mean_only=True))\n",
    "\n",
    "aff_Ada.plot(param_abscissa=\"estimator__n_estimators\")"
   ]
  },
  {
   "cell_type": "markdown",
   "metadata": {},
   "source": [
    "___\n",
    "\n",
    "\n",
    "## Classifieur par Decision trees\n",
    "Une `decision trees` est un méthode d’apprentissage supervisé non paramétrique pour la classification et la régression. Notre objectif est de créer un modèle qui prédit la valeur de la variable cible en apprenant des règles de décision simples déduites des caractéristiques des données. L’arbre peut être considéré comme une approximation constante par segments.\n"
   ]
  },
  {
   "cell_type": "markdown",
   "metadata": {},
   "source": [
    "___\n",
    "\n",
    "\n",
    "## Classifieur par KNeighbors\n",
    "Une `KNeighbors` est une méthode d’apprentissage basé sur des exemples ou d’apprentissage non généralisé. Elle ne cherche pas à construire un modèle interne général, mais simplement à stocker des exemples de données de formation. La classification est calculée à la majorité simple des voisins les plus proches de chaque point: une classe de données est attribuée à un point de requête qui a le plus de représentants parmi les voisins les plus proches de ce point.\n"
   ]
  },
  {
   "cell_type": "markdown",
   "metadata": {},
   "source": [
    "___\n",
    "\n",
    "\n",
    "## Classifieur par regression logistique \n",
    "La régression logistique est un algorithme d’apprentissage automatique utilisé dans les problèmes de classification et qui a pour but attribuer des observations à un ensemble discret de classes, c’est un modèle linéaire. Grâce à la fonction sigmoïde logistique, la régression logistique transforme sa sortie en une probabilité d'appartenir à l'une ou à l'autre classe dans le cas binaire."
   ]
  },
  {
   "cell_type": "markdown",
   "metadata": {},
   "source": [
    "___\n",
    "___\n",
    "\n",
    "# 3. Comparaison des résultats\n",
    "\n",
    "On compile les résultats des classifieurs étudiés pour les comparer sur leur 'accuracy'.\n",
    "\n"
   ]
  },
  {
   "cell_type": "markdown",
   "metadata": {},
   "source": [
    "___\n",
    "___\n",
    "\n",
    "# 4. Conclusions\n",
    "\n"
   ]
  }
 ],
 "metadata": {
  "kernelspec": {
   "display_name": "Python 3 (ipykernel)",
   "language": "python",
   "name": "python3"
  },
  "language_info": {
   "codemirror_mode": {
    "name": "ipython",
    "version": 3
   },
   "file_extension": ".py",
   "mimetype": "text/x-python",
   "name": "python",
   "nbconvert_exporter": "python",
   "pygments_lexer": "ipython3",
   "version": "3.7.11"
  },
  "pycharm": {
   "stem_cell": {
    "cell_type": "raw",
    "metadata": {
     "collapsed": false
    },
    "source": []
   }
  },
  "vscode": {
   "interpreter": {
    "hash": "5b3d69c228acec43ccb1d94850ec81cd25ddd764b16c8320f7bd382f3b185d11"
   }
  }
 },
 "nbformat": 4,
 "nbformat_minor": 2
}
