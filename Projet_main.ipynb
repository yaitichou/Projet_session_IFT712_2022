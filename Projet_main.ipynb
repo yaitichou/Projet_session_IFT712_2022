{
 "cells": [
  {
   "cell_type": "markdown",
   "metadata": {},
   "source": [
    "# IFT712 - Projet de fin de session\n",
    "\n",
    "## Sujet\n",
    "\n",
    "Classification de feuilles d'arbres en utilisant la bibliothèque Sklearn et comparaison des classifieurs présents dans celle-ci pour trouver le modèle adapté à l'étude des plantes. Pour ce faire, on utilisera la validation croisée et la recherche d’hyperparamètres pour chacuns des classifieurs.\n",
    "\n"
   ]
  },
  {
   "cell_type": "markdown",
   "metadata": {},
   "source": [
    "## Equipe 8 :\n"
   ]
  },
  {
   "cell_type": "markdown",
   "metadata": {},
   "source": [
    "___\n",
    "___\n",
    "\n",
    "# 0. Configuration"
   ]
  },
  {
   "cell_type": "code",
   "execution_count": 5,
   "metadata": {},
   "outputs": [],
   "source": [
    "'''\n",
    " Imporation of python libraries\n",
    "'''\n",
    "from LogisticRegression_classifieur import LogisticRegressionClassifier\n",
    "from knn_classifier import KNNClassifier\n",
    "from decision_trees_classifier import DTSClassifier\n",
    "from adaboost_classifieur import adaboostClassifier\n",
    "from svm_classifieur import svmClassifier\n",
    "from neural_network_classifier import NNClassifier\n",
    "from random_forest_classifieur import RandForestClassifier\n",
    "from data_manager import data_extract\n",
    "from data_manager import data_cleaning\n",
    "from data_manager import generate_combinations_for_attributes\n",
    "from data_manager import to_array\n",
    "from data_manager import ACP\n",
    "from sklearn.metrics import accuracy_score as ac\n",
    "from sklearn.model_selection import KFold \n",
    "import utils_affichage\n",
    "import numpy as np\n",
    "import pandas as pd\n",
    "import matplotlib.pyplot as plt\n",
    "\n",
    "from sklearn.preprocessing import LabelBinarizer\n",
    "from sklearn.model_selection import train_test_split"
   ]
  },
  {
   "cell_type": "markdown",
   "metadata": {},
   "source": [
    "___\n",
    "___\n",
    "\n",
    "# 1. Préparation des données\n",
    "\n",
    "On utilise les données de classification de feuilles du site [Kaggle](https://www.kaggle.com/c/leaf-classification/data).\n",
    "Les données sont composées de 2 ensembles (train et test). \n",
    "\n",
    "Chaque échantillons est caractérisé par :\n",
    "- un id unique par image \n",
    "- 64 attributs pour la marge de la feuille\n",
    "- 64 attributs pour la forme de la feuille\n",
    "- 64 attributs pour la texture de la feuille"
   ]
  },
  {
   "cell_type": "code",
   "execution_count": 6,
   "metadata": {},
   "outputs": [],
   "source": [
    "data_path_train = './data/train.csv'\n",
    "data_path_test = './data/test.csv'\n",
    "\n",
    "#Extract data for training dataset\n",
    "data_attributes_train, data_train_df, ids_train, labels = data_extract(data_path_train,dataset = \"train\")\n",
    "\n",
    "#Extract data for testing dataset\n",
    "res = data_extract(data_path_test,dataset = \"test\")\n",
    "data_attributes_test = res[0]\n",
    "data_test_df = res[1]\n",
    "ids_test = res[2]\n",
    "\n",
    "#Clean data\n",
    "#print(data_train_df)\n",
    "\n",
    "max_len_generated_subset = 4\n",
    "\n",
    "#generate all combinations for attributes\n",
    "generated_subsets = generate_combinations_for_attributes(data_attributes_train,max_len_generated_subset)\n",
    "\n"
   ]
  },
  {
   "cell_type": "code",
   "execution_count": 7,
   "metadata": {},
   "outputs": [
    {
     "data": {
      "text/html": [
       "<div>\n",
       "<style scoped>\n",
       "    .dataframe tbody tr th:only-of-type {\n",
       "        vertical-align: middle;\n",
       "    }\n",
       "\n",
       "    .dataframe tbody tr th {\n",
       "        vertical-align: top;\n",
       "    }\n",
       "\n",
       "    .dataframe thead th {\n",
       "        text-align: right;\n",
       "    }\n",
       "</style>\n",
       "<table border=\"1\" class=\"dataframe\">\n",
       "  <thead>\n",
       "    <tr style=\"text-align: right;\">\n",
       "      <th></th>\n",
       "      <th>species</th>\n",
       "      <th>margin1</th>\n",
       "      <th>margin2</th>\n",
       "      <th>margin3</th>\n",
       "      <th>margin4</th>\n",
       "      <th>margin5</th>\n",
       "      <th>margin6</th>\n",
       "      <th>margin7</th>\n",
       "      <th>margin8</th>\n",
       "      <th>margin9</th>\n",
       "      <th>...</th>\n",
       "      <th>texture55</th>\n",
       "      <th>texture56</th>\n",
       "      <th>texture57</th>\n",
       "      <th>texture58</th>\n",
       "      <th>texture59</th>\n",
       "      <th>texture60</th>\n",
       "      <th>texture61</th>\n",
       "      <th>texture62</th>\n",
       "      <th>texture63</th>\n",
       "      <th>texture64</th>\n",
       "    </tr>\n",
       "    <tr>\n",
       "      <th>id</th>\n",
       "      <th></th>\n",
       "      <th></th>\n",
       "      <th></th>\n",
       "      <th></th>\n",
       "      <th></th>\n",
       "      <th></th>\n",
       "      <th></th>\n",
       "      <th></th>\n",
       "      <th></th>\n",
       "      <th></th>\n",
       "      <th></th>\n",
       "      <th></th>\n",
       "      <th></th>\n",
       "      <th></th>\n",
       "      <th></th>\n",
       "      <th></th>\n",
       "      <th></th>\n",
       "      <th></th>\n",
       "      <th></th>\n",
       "      <th></th>\n",
       "      <th></th>\n",
       "    </tr>\n",
       "  </thead>\n",
       "  <tbody>\n",
       "    <tr>\n",
       "      <th>1</th>\n",
       "      <td>Acer_Opalus</td>\n",
       "      <td>0.007812</td>\n",
       "      <td>0.023438</td>\n",
       "      <td>0.023438</td>\n",
       "      <td>0.003906</td>\n",
       "      <td>0.011719</td>\n",
       "      <td>0.009766</td>\n",
       "      <td>0.027344</td>\n",
       "      <td>0.0</td>\n",
       "      <td>0.001953</td>\n",
       "      <td>...</td>\n",
       "      <td>0.007812</td>\n",
       "      <td>0.000000</td>\n",
       "      <td>0.002930</td>\n",
       "      <td>0.002930</td>\n",
       "      <td>0.035156</td>\n",
       "      <td>0.000000</td>\n",
       "      <td>0.000000</td>\n",
       "      <td>0.004883</td>\n",
       "      <td>0.000000</td>\n",
       "      <td>0.025391</td>\n",
       "    </tr>\n",
       "    <tr>\n",
       "      <th>2</th>\n",
       "      <td>Pterocarya_Stenoptera</td>\n",
       "      <td>0.005859</td>\n",
       "      <td>0.000000</td>\n",
       "      <td>0.031250</td>\n",
       "      <td>0.015625</td>\n",
       "      <td>0.025391</td>\n",
       "      <td>0.001953</td>\n",
       "      <td>0.019531</td>\n",
       "      <td>0.0</td>\n",
       "      <td>0.000000</td>\n",
       "      <td>...</td>\n",
       "      <td>0.000977</td>\n",
       "      <td>0.000000</td>\n",
       "      <td>0.000000</td>\n",
       "      <td>0.000977</td>\n",
       "      <td>0.023438</td>\n",
       "      <td>0.000000</td>\n",
       "      <td>0.000000</td>\n",
       "      <td>0.000977</td>\n",
       "      <td>0.039062</td>\n",
       "      <td>0.022461</td>\n",
       "    </tr>\n",
       "    <tr>\n",
       "      <th>3</th>\n",
       "      <td>Quercus_Hartwissiana</td>\n",
       "      <td>0.005859</td>\n",
       "      <td>0.009766</td>\n",
       "      <td>0.019531</td>\n",
       "      <td>0.007812</td>\n",
       "      <td>0.003906</td>\n",
       "      <td>0.005859</td>\n",
       "      <td>0.068359</td>\n",
       "      <td>0.0</td>\n",
       "      <td>0.000000</td>\n",
       "      <td>...</td>\n",
       "      <td>0.154300</td>\n",
       "      <td>0.000000</td>\n",
       "      <td>0.005859</td>\n",
       "      <td>0.000977</td>\n",
       "      <td>0.007812</td>\n",
       "      <td>0.000000</td>\n",
       "      <td>0.000000</td>\n",
       "      <td>0.000000</td>\n",
       "      <td>0.020508</td>\n",
       "      <td>0.002930</td>\n",
       "    </tr>\n",
       "    <tr>\n",
       "      <th>5</th>\n",
       "      <td>Tilia_Tomentosa</td>\n",
       "      <td>0.000000</td>\n",
       "      <td>0.003906</td>\n",
       "      <td>0.023438</td>\n",
       "      <td>0.005859</td>\n",
       "      <td>0.021484</td>\n",
       "      <td>0.019531</td>\n",
       "      <td>0.023438</td>\n",
       "      <td>0.0</td>\n",
       "      <td>0.013672</td>\n",
       "      <td>...</td>\n",
       "      <td>0.000000</td>\n",
       "      <td>0.000977</td>\n",
       "      <td>0.000000</td>\n",
       "      <td>0.000000</td>\n",
       "      <td>0.020508</td>\n",
       "      <td>0.000000</td>\n",
       "      <td>0.000000</td>\n",
       "      <td>0.017578</td>\n",
       "      <td>0.000000</td>\n",
       "      <td>0.047852</td>\n",
       "    </tr>\n",
       "    <tr>\n",
       "      <th>6</th>\n",
       "      <td>Quercus_Variabilis</td>\n",
       "      <td>0.005859</td>\n",
       "      <td>0.003906</td>\n",
       "      <td>0.048828</td>\n",
       "      <td>0.009766</td>\n",
       "      <td>0.013672</td>\n",
       "      <td>0.015625</td>\n",
       "      <td>0.005859</td>\n",
       "      <td>0.0</td>\n",
       "      <td>0.000000</td>\n",
       "      <td>...</td>\n",
       "      <td>0.096680</td>\n",
       "      <td>0.000000</td>\n",
       "      <td>0.021484</td>\n",
       "      <td>0.000000</td>\n",
       "      <td>0.000000</td>\n",
       "      <td>0.000000</td>\n",
       "      <td>0.000000</td>\n",
       "      <td>0.000000</td>\n",
       "      <td>0.000000</td>\n",
       "      <td>0.031250</td>\n",
       "    </tr>\n",
       "    <tr>\n",
       "      <th>...</th>\n",
       "      <td>...</td>\n",
       "      <td>...</td>\n",
       "      <td>...</td>\n",
       "      <td>...</td>\n",
       "      <td>...</td>\n",
       "      <td>...</td>\n",
       "      <td>...</td>\n",
       "      <td>...</td>\n",
       "      <td>...</td>\n",
       "      <td>...</td>\n",
       "      <td>...</td>\n",
       "      <td>...</td>\n",
       "      <td>...</td>\n",
       "      <td>...</td>\n",
       "      <td>...</td>\n",
       "      <td>...</td>\n",
       "      <td>...</td>\n",
       "      <td>...</td>\n",
       "      <td>...</td>\n",
       "      <td>...</td>\n",
       "      <td>...</td>\n",
       "    </tr>\n",
       "    <tr>\n",
       "      <th>1575</th>\n",
       "      <td>Magnolia_Salicifolia</td>\n",
       "      <td>0.060547</td>\n",
       "      <td>0.119140</td>\n",
       "      <td>0.007812</td>\n",
       "      <td>0.003906</td>\n",
       "      <td>0.000000</td>\n",
       "      <td>0.148440</td>\n",
       "      <td>0.017578</td>\n",
       "      <td>0.0</td>\n",
       "      <td>0.001953</td>\n",
       "      <td>...</td>\n",
       "      <td>0.242190</td>\n",
       "      <td>0.000000</td>\n",
       "      <td>0.034180</td>\n",
       "      <td>0.000000</td>\n",
       "      <td>0.010742</td>\n",
       "      <td>0.000000</td>\n",
       "      <td>0.000000</td>\n",
       "      <td>0.000000</td>\n",
       "      <td>0.000000</td>\n",
       "      <td>0.018555</td>\n",
       "    </tr>\n",
       "    <tr>\n",
       "      <th>1578</th>\n",
       "      <td>Acer_Pictum</td>\n",
       "      <td>0.001953</td>\n",
       "      <td>0.003906</td>\n",
       "      <td>0.021484</td>\n",
       "      <td>0.107420</td>\n",
       "      <td>0.001953</td>\n",
       "      <td>0.000000</td>\n",
       "      <td>0.000000</td>\n",
       "      <td>0.0</td>\n",
       "      <td>0.029297</td>\n",
       "      <td>...</td>\n",
       "      <td>0.170900</td>\n",
       "      <td>0.000000</td>\n",
       "      <td>0.018555</td>\n",
       "      <td>0.000000</td>\n",
       "      <td>0.011719</td>\n",
       "      <td>0.000000</td>\n",
       "      <td>0.000000</td>\n",
       "      <td>0.000977</td>\n",
       "      <td>0.000000</td>\n",
       "      <td>0.021484</td>\n",
       "    </tr>\n",
       "    <tr>\n",
       "      <th>1581</th>\n",
       "      <td>Alnus_Maximowiczii</td>\n",
       "      <td>0.001953</td>\n",
       "      <td>0.003906</td>\n",
       "      <td>0.000000</td>\n",
       "      <td>0.021484</td>\n",
       "      <td>0.078125</td>\n",
       "      <td>0.003906</td>\n",
       "      <td>0.007812</td>\n",
       "      <td>0.0</td>\n",
       "      <td>0.003906</td>\n",
       "      <td>...</td>\n",
       "      <td>0.004883</td>\n",
       "      <td>0.000977</td>\n",
       "      <td>0.004883</td>\n",
       "      <td>0.027344</td>\n",
       "      <td>0.016602</td>\n",
       "      <td>0.007812</td>\n",
       "      <td>0.000000</td>\n",
       "      <td>0.027344</td>\n",
       "      <td>0.000000</td>\n",
       "      <td>0.001953</td>\n",
       "    </tr>\n",
       "    <tr>\n",
       "      <th>1582</th>\n",
       "      <td>Quercus_Rubra</td>\n",
       "      <td>0.000000</td>\n",
       "      <td>0.000000</td>\n",
       "      <td>0.046875</td>\n",
       "      <td>0.056641</td>\n",
       "      <td>0.009766</td>\n",
       "      <td>0.000000</td>\n",
       "      <td>0.000000</td>\n",
       "      <td>0.0</td>\n",
       "      <td>0.037109</td>\n",
       "      <td>...</td>\n",
       "      <td>0.083008</td>\n",
       "      <td>0.030273</td>\n",
       "      <td>0.000977</td>\n",
       "      <td>0.002930</td>\n",
       "      <td>0.014648</td>\n",
       "      <td>0.000000</td>\n",
       "      <td>0.041992</td>\n",
       "      <td>0.000000</td>\n",
       "      <td>0.001953</td>\n",
       "      <td>0.002930</td>\n",
       "    </tr>\n",
       "    <tr>\n",
       "      <th>1584</th>\n",
       "      <td>Quercus_Afares</td>\n",
       "      <td>0.023438</td>\n",
       "      <td>0.019531</td>\n",
       "      <td>0.031250</td>\n",
       "      <td>0.015625</td>\n",
       "      <td>0.005859</td>\n",
       "      <td>0.019531</td>\n",
       "      <td>0.035156</td>\n",
       "      <td>0.0</td>\n",
       "      <td>0.003906</td>\n",
       "      <td>...</td>\n",
       "      <td>0.000000</td>\n",
       "      <td>0.000000</td>\n",
       "      <td>0.002930</td>\n",
       "      <td>0.000000</td>\n",
       "      <td>0.012695</td>\n",
       "      <td>0.000000</td>\n",
       "      <td>0.000000</td>\n",
       "      <td>0.023438</td>\n",
       "      <td>0.025391</td>\n",
       "      <td>0.022461</td>\n",
       "    </tr>\n",
       "  </tbody>\n",
       "</table>\n",
       "<p>990 rows × 193 columns</p>\n",
       "</div>"
      ],
      "text/plain": [
       "                    species   margin1   margin2   margin3   margin4   margin5  \\\n",
       "id                                                                              \n",
       "1               Acer_Opalus  0.007812  0.023438  0.023438  0.003906  0.011719   \n",
       "2     Pterocarya_Stenoptera  0.005859  0.000000  0.031250  0.015625  0.025391   \n",
       "3      Quercus_Hartwissiana  0.005859  0.009766  0.019531  0.007812  0.003906   \n",
       "5           Tilia_Tomentosa  0.000000  0.003906  0.023438  0.005859  0.021484   \n",
       "6        Quercus_Variabilis  0.005859  0.003906  0.048828  0.009766  0.013672   \n",
       "...                     ...       ...       ...       ...       ...       ...   \n",
       "1575   Magnolia_Salicifolia  0.060547  0.119140  0.007812  0.003906  0.000000   \n",
       "1578            Acer_Pictum  0.001953  0.003906  0.021484  0.107420  0.001953   \n",
       "1581     Alnus_Maximowiczii  0.001953  0.003906  0.000000  0.021484  0.078125   \n",
       "1582          Quercus_Rubra  0.000000  0.000000  0.046875  0.056641  0.009766   \n",
       "1584         Quercus_Afares  0.023438  0.019531  0.031250  0.015625  0.005859   \n",
       "\n",
       "       margin6   margin7  margin8   margin9  ...  texture55  texture56  \\\n",
       "id                                           ...                         \n",
       "1     0.009766  0.027344      0.0  0.001953  ...   0.007812   0.000000   \n",
       "2     0.001953  0.019531      0.0  0.000000  ...   0.000977   0.000000   \n",
       "3     0.005859  0.068359      0.0  0.000000  ...   0.154300   0.000000   \n",
       "5     0.019531  0.023438      0.0  0.013672  ...   0.000000   0.000977   \n",
       "6     0.015625  0.005859      0.0  0.000000  ...   0.096680   0.000000   \n",
       "...        ...       ...      ...       ...  ...        ...        ...   \n",
       "1575  0.148440  0.017578      0.0  0.001953  ...   0.242190   0.000000   \n",
       "1578  0.000000  0.000000      0.0  0.029297  ...   0.170900   0.000000   \n",
       "1581  0.003906  0.007812      0.0  0.003906  ...   0.004883   0.000977   \n",
       "1582  0.000000  0.000000      0.0  0.037109  ...   0.083008   0.030273   \n",
       "1584  0.019531  0.035156      0.0  0.003906  ...   0.000000   0.000000   \n",
       "\n",
       "      texture57  texture58  texture59  texture60  texture61  texture62  \\\n",
       "id                                                                       \n",
       "1      0.002930   0.002930   0.035156   0.000000   0.000000   0.004883   \n",
       "2      0.000000   0.000977   0.023438   0.000000   0.000000   0.000977   \n",
       "3      0.005859   0.000977   0.007812   0.000000   0.000000   0.000000   \n",
       "5      0.000000   0.000000   0.020508   0.000000   0.000000   0.017578   \n",
       "6      0.021484   0.000000   0.000000   0.000000   0.000000   0.000000   \n",
       "...         ...        ...        ...        ...        ...        ...   \n",
       "1575   0.034180   0.000000   0.010742   0.000000   0.000000   0.000000   \n",
       "1578   0.018555   0.000000   0.011719   0.000000   0.000000   0.000977   \n",
       "1581   0.004883   0.027344   0.016602   0.007812   0.000000   0.027344   \n",
       "1582   0.000977   0.002930   0.014648   0.000000   0.041992   0.000000   \n",
       "1584   0.002930   0.000000   0.012695   0.000000   0.000000   0.023438   \n",
       "\n",
       "      texture63  texture64  \n",
       "id                          \n",
       "1      0.000000   0.025391  \n",
       "2      0.039062   0.022461  \n",
       "3      0.020508   0.002930  \n",
       "5      0.000000   0.047852  \n",
       "6      0.000000   0.031250  \n",
       "...         ...        ...  \n",
       "1575   0.000000   0.018555  \n",
       "1578   0.000000   0.021484  \n",
       "1581   0.000000   0.001953  \n",
       "1582   0.001953   0.002930  \n",
       "1584   0.025391   0.022461  \n",
       "\n",
       "[990 rows x 193 columns]"
      ]
     },
     "metadata": {},
     "output_type": "display_data"
    }
   ],
   "source": [
    "# Dataset Preparation\n",
    "# Training data \n",
    "data_train = pd.read_csv(\"./data/train.csv\")\n",
    "data_train.set_index(\"id\", inplace=True)\n",
    "\n",
    "# Test data\n",
    "data_test = pd.read_csv(\"./data/test.csv\")\n",
    "data_test.set_index(\"id\", inplace=True)\n",
    "\n",
    "display(data_train)\n",
    "\n",
    "# Separation of caracteristiques/tragets of data\n",
    "# Training data \n",
    "y_train = data_train[\"species\"]\n",
    "X_train = data_train.drop([\"species\"], axis=1)\n",
    "\n",
    "# Test data (no target column)\n",
    "X_test = data_test.copy()\n",
    "\n",
    "# Encoding \"One-hot\" for training targets \n",
    "class_names = np.unique(y_train)\n",
    "lblBin = LabelBinarizer().fit(y_train)\n",
    "\n",
    "#Data normalization\n",
    "# Training data \n",
    "mean = np.mean(X_train, axis=0)\n",
    "std = np.std(X_train, axis=0)\n",
    "X_train = (X_train - mean) / std\n",
    "\n",
    "# Test data\n",
    "X_test = (X_test - mean) / std\n",
    "\n",
    "# Splitting the training data for validation\n",
    "val_perc = 0.3\n",
    "X_train, X_val, y_train, y_val = train_test_split(X_train, y_train, test_size=val_perc, random_state=0, shuffle=True)\n",
    "\n",
    "# Encoding targets \"one-hot\"\n",
    "y_train_not_bin = y_train.copy()\n",
    "y_train = lblBin.transform(y_train)\n",
    "y_val_not_bin = y_val.copy()\n",
    "y_val = lblBin.transform(y_val)\n"
   ]
  },
  {
   "cell_type": "markdown",
   "metadata": {},
   "source": [
    "___\n",
    "___\n",
    "\n",
    "# 2. Classification\n",
    "\n",
    "Dans cette partie nous allons mettre en place 6 classifieurs :\n",
    "- Random Forest\n",
    "- Neural Network\n",
    "- SVM\n",
    "- AdaBoost\n",
    "- Decision Tree\n",
    "- KNeighbors\n",
    "- Regression linéaire\n"
   ]
  },
  {
   "cell_type": "code",
   "execution_count": 9,
   "metadata": {},
   "outputs": [],
   "source": [
    "# Resultat for Visual Comparison\n",
    "accu_dict = {}\n",
    "\n",
    "# Dictionary  of labels for test preditions and list of score fonctions\n",
    "pred_dict = {}\n",
    "scorers = {\"Accuracy\": 'accuracy', \"Precision\": 'precision_micro', \"F1\": 'f1_micro'}\n"
   ]
  },
  {
   "cell_type": "markdown",
   "metadata": {},
   "source": [
    "___\n",
    "\n",
    "\n",
    "## Classifieur par Random Forest\n",
    "Une `random forest` est un estimateur qui utilise plusieurs arbres de décision pour palier à la tendance de sur-apprentissage de ceux-ci. Chaque arbre apprend sur les données d'entrée avec des paramètres différents puis l'estimateur classe les points par la probabilité la plus haute pour tout les arbres.\n"
   ]
  },
  {
   "cell_type": "markdown",
   "metadata": {},
   "source": [
    "___\n",
    "\n",
    "## Classifieur par réseau de neurones\n",
    "Un réseau de neurones est un algorithme d’apprentissage supervisé de plusiers fonctions d’apprentissage. Il calcule la prédiction et la compare avec la valeur de y à l'aide de la fonction de coût et l'erreur est propagé en arrière afin de mettre à jour les poids des différentes fonctions."
   ]
  },
  {
   "cell_type": "markdown",
   "metadata": {},
   "source": [
    "### NN - Entrainement\n",
    "\n",
    "On entraine maintenant le modèle sur les données completes."
   ]
  },
  {
   "cell_type": "code",
   "execution_count": null,
   "metadata": {},
   "outputs": [],
   "source": [
    "model = NNClassifier(X_train, y_train, X_val, y_val, class_names, scorers)\n",
    "model.train_default(verbose=True)"
   ]
  },
  {
   "cell_type": "markdown",
   "metadata": {},
   "source": [
    "### NN - Recherche hyper-paramètres\n",
    "\n",
    "On fait une recherche d'hyper-paramètres sur :\n",
    "- `hidden_layer_sizes` : Taille des couches cachées du réseau\n",
    "- `solveur` : Méthode d'optimisation des poids `W`\n",
    "- `learning_rate_init` : Longueur initial des pas lors de la descente de gradient\n",
    "- `alpha` : Terme de régularisation L2, correspond à la pénalité sur la taille des poids dans `W`"
   ]
  },
  {
   "cell_type": "code",
   "execution_count": null,
   "metadata": {
    "scrolled": true
   },
   "outputs": [],
   "source": [
    "# recherche hyperparametre\n",
    "NN_param = {\n",
    "    'hidden_layer_sizes': [(50,), (100,), (200,)],\n",
    "    'solver': ['lbfgs', 'sgd', 'adam'],\n",
    "    'learning_rate_init': [1e-2, 1e-1, 1.0, 10.0],\n",
    "    'alpha': [1e-1, 1e-2, 1e-3, 1e-4, 1e-5, 1e-6]\n",
    "}\n",
    "\n",
    "model = NNClassifier(X_train, y_train, X_val, y_val, class_names, scorers)\n",
    "accu_train_hyperparm, accu_val_hyperparm = model.train_hyperparameter(NN_param, random_search=True, verbose=True)"
   ]
  },
  {
   "cell_type": "code",
   "execution_count": null,
   "metadata": {},
   "outputs": [],
   "source": [
    "# Append accuracy percentage for visual comparison\n",
    "accu_dict[\"Neural network\"] = accu_val_hyperparm*100\n"
   ]
  },
  {
   "cell_type": "markdown",
   "metadata": {},
   "source": [
    "### NN - Prédiction des valeurs de test\n",
    "\n",
    "On peut alors prédire les classes pour l'ensemble de données de test."
   ]
  },
  {
   "cell_type": "code",
   "execution_count": null,
   "metadata": {},
   "outputs": [],
   "source": [
    "NN_pred = model.predict(X_test)\n",
    "NN_pred_label = lblBin.inverse_transform(NN_pred)\n",
    "\n",
    "pred_dict[\"Neural network\"] = NN_pred_label\n",
    "df_pred = pd.DataFrame.from_dict(pred_dict)\n",
    "display(df_pred)"
   ]
  },
  {
   "cell_type": "markdown",
   "metadata": {},
   "source": [
    "### NN - Affichage des courbes d'apprentissage\n",
    "\n",
    "On peut afficher les courbes d'apprentissage du modèle si on ne fait varier qu'un seul hyper parametre par une recherche complete."
   ]
  },
  {
   "cell_type": "code",
   "execution_count": 10,
   "metadata": {},
   "outputs": [
    {
     "name": "stdout",
     "output_type": "stream",
     "text": [
      "Using complet search:\n",
      "Fitting 5 folds for each of 5 candidates, totalling 25 fits\n",
      "\n",
      "Best cross val accuracy : 0.8975289333750391\n",
      "Best estimator:\n",
      "MLPClassifier(learning_rate_init=0.10010000000000001, max_iter=800,\n",
      "              solver='sgd')\n",
      "\n",
      "Accuracy train: 100.000%\n",
      "Accuracy validation: 85.859%\n"
     ]
    },
    {
     "data": {
      "text/plain": [
       "(1.0, 0.8585858585858586)"
      ]
     },
     "execution_count": 10,
     "metadata": {},
     "output_type": "execute_result"
    }
   ],
   "source": [
    "NN_param = {\n",
    "    'learning_rate_init': np.arange(0.0001, .5, 0.1),\n",
    "    'solver': ['sgd'],\n",
    "}\n",
    "model = NNClassifier(X_train, y_train, X_val, y_val, class_names, scorers)\n",
    "model.train_hyperparameter(NN_param, random_search=False, verbose=True)\n"
   ]
  },
  {
   "cell_type": "code",
   "execution_count": 11,
   "metadata": {},
   "outputs": [
    {
     "name": "stdout",
     "output_type": "stream",
     "text": [
      "Model with rank: 1\n",
      "Mean validation Accuracy: 0.898 (std: 0.007)\n",
      "Parameters: {'learning_rate_init': 0.10010000000000001, 'solver': 'sgd'}\n",
      "\n",
      "Model with rank: 2\n",
      "Mean validation Accuracy: 0.841 (std: 0.019)\n",
      "Parameters: {'learning_rate_init': 0.2001, 'solver': 'sgd'}\n",
      "\n"
     ]
    },
    {
     "data": {
      "text/plain": [
       "precision      0.977444\n",
       "recall         0.875421\n",
       "f1-score       0.923623\n",
       "support      297.000000\n",
       "Name: micro avg, dtype: float64"
      ]
     },
     "metadata": {},
     "output_type": "display_data"
    },
    {
     "data": {
      "image/png": "[encoded data removed]",
      "text/plain": [
       "<Figure size 936x576 with 1 Axes>"
      ]
     },
     "metadata": {
      "needs_background": "light"
     },
     "output_type": "display_data"
    }
   ],
   "source": [
    "aff_NN = utils_affichage.Affichage(model)\n",
    "\n",
    "# display(aff_NN.hyper_results())\n",
    "\n",
    "aff_NN.best_estimators(n_top=2)\n",
    "\n",
    "y_val_pred = model.predict(X_val)\n",
    "display(aff_NN.class_report(y_val, y_val_pred, mean_only=True))\n",
    "\n",
    "aff_NN.plot(param_abscissa=\"learning_rate_init\")"
   ]
  },
  {
   "cell_type": "code",
   "execution_count": 12,
   "metadata": {},
   "outputs": [
    {
     "name": "stdout",
     "output_type": "stream",
     "text": [
      "NNClassifier\n",
      "<class 'str'>\n",
      "{'Accuracy': 'accuracy', 'Precision': 'precision_micro', 'F1': 'f1_micro'}\n",
      "<class 'dict'>\n",
      "{'mean_fit_time': array([12.49521718,  1.74134521,  1.09267898,  0.69294457,  0.34966354]), 'std_fit_time': array([1.75296059, 0.02292682, 0.06207549, 0.09005217, 0.16117311]), 'mean_score_time': array([0.01755366, 0.01814861, 0.01755176, 0.01715293, 0.01595707]), 'std_score_time': array([0.00911053, 0.00116251, 0.00048734, 0.00146606, 0.00141054]), 'param_learning_rate_init': masked_array(data=[0.0001, 0.10010000000000001, 0.2001,\n",
      "                   0.30010000000000003, 0.4001],\n",
      "             mask=[False, False, False, False, False],\n",
      "       fill_value='?',\n",
      "            dtype=object), 'param_solver': masked_array(data=['sgd', 'sgd', 'sgd', 'sgd', 'sgd'],\n",
      "             mask=[False, False, False, False, False],\n",
      "       fill_value='?',\n",
      "            dtype=object), 'params': [{'learning_rate_init': 0.0001, 'solver': 'sgd'}, {'learning_rate_init': 0.10010000000000001, 'solver': 'sgd'}, {'learning_rate_init': 0.2001, 'solver': 'sgd'}, {'learning_rate_init': 0.30010000000000003, 'solver': 'sgd'}, {'learning_rate_init': 0.4001, 'solver': 'sgd'}], 'split0_test_Accuracy': array([0.00719424, 0.89928058, 0.83453237, 0.71942446, 0.15107914]), 'split1_test_Accuracy': array([0.02877698, 0.89928058, 0.8705036 , 0.73381295, 0.79856115]), 'split2_test_Accuracy': array([0.00719424, 0.90647482, 0.85611511, 0.79136691, 0.20143885]), 'split3_test_Accuracy': array([0.01449275, 0.89855072, 0.82608696, 0.73913043, 0.02173913]), 'split4_test_Accuracy': array([0.00724638, 0.88405797, 0.81884058, 0.7173913 , 0.76086957]), 'mean_test_Accuracy': array([0.01298092, 0.89752893, 0.84121572, 0.74022521, 0.38673757]), 'std_test_Accuracy': array([0.00838639, 0.00733043, 0.01925599, 0.02687693, 0.32639479]), 'rank_test_Accuracy': array([5, 1, 2, 3, 4]), 'split0_train_Accuracy': array([0.02166065, 1.        , 1.        , 1.        , 0.18772563]), 'split1_train_Accuracy': array([0.02527076, 1.        , 1.        , 1.        , 1.        ]), 'split2_train_Accuracy': array([0.04512635, 1.        , 1.        , 1.        , 0.25090253]), 'split3_train_Accuracy': array([0.03603604, 1.        , 1.        , 1.        , 0.01441441]), 'split4_train_Accuracy': array([0.02882883, 1.        , 1.        , 1.        , 0.97837838]), 'mean_train_Accuracy': array([0.03138453, 1.        , 1.        , 1.        , 0.48628419]), 'std_train_Accuracy': array([0.0083539 , 0.        , 0.        , 0.        , 0.41791469]), 'split0_test_Precision': array([0.5       , 0.984375  , 0.97520661, 0.9       , 0.2327044 ]), 'split1_test_Precision': array([1.        , 0.97674419, 0.99180328, 0.87596899, 0.91472868]), 'split2_test_Precision': array([1.        , 0.97692308, 0.9609375 , 0.94262295, 0.2718894 ]), 'split3_test_Precision': array([1.        , 0.96946565, 0.97478992, 0.89344262, 0.03821656]), 'split4_test_Precision': array([1.        , 0.96875   , 0.93650794, 0.85384615, 0.83453237]), 'mean_test_Precision': array([0.9       , 0.97525158, 0.96784905, 0.89317614, 0.45841428]), 'std_test_Precision': array([0.2       , 0.00572724, 0.01847241, 0.02944336, 0.34985433]), 'rank_test_Precision': array([3, 1, 2, 4, 5]), 'split0_train_Precision': array([1.        , 1.        , 1.        , 1.        , 0.31008902]), 'split1_train_Precision': array([1., 1., 1., 1., 1.]), 'split2_train_Precision': array([1.        , 1.        , 1.        , 1.        , 0.33562428]), 'split3_train_Precision': array([1.        , 1.        , 1.        , 1.        , 0.04809287]), 'split4_train_Precision': array([1.        , 1.        , 1.        , 1.        , 0.98395722]), 'mean_train_Precision': array([1.        , 1.        , 1.        , 1.        , 0.53555268]), 'std_train_Precision': array([0.        , 0.        , 0.        , 0.        , 0.38605705]), 'split0_test_F1': array([0.0141844 , 0.94382022, 0.90769231, 0.83397683, 0.24832215]), 'split1_test_F1': array([0.05594406, 0.94029851, 0.92720307, 0.84328358, 0.88059701]), 'split2_test_F1': array([0.01428571, 0.94423792, 0.92134831, 0.88122605, 0.33146067]), 'split3_test_F1': array([0.02857143, 0.94423792, 0.90272374, 0.83846154, 0.04067797]), 'split4_test_F1': array([0.01438849, 0.93233083, 0.89393939, 0.82835821, 0.83754513]), 'mean_test_F1': array([0.02547482, 0.94098508, 0.91058136, 0.84506124, 0.46772059]), 'std_test_F1': array([0.01620827, 0.00457313, 0.01215938, 0.01874281, 0.33355808]), 'rank_test_F1': array([5, 1, 2, 3, 4]), 'split0_train_F1': array([0.04240283, 1.        , 1.        , 1.        , 0.34039088]), 'split1_train_F1': array([0.04929577, 1.        , 1.        , 1.        , 1.        ]), 'split2_train_F1': array([0.08635579, 1.        , 1.        , 1.        , 0.41065172]), 'split3_train_F1': array([0.06956522, 1.        , 1.        , 1.        , 0.05008636]), 'split4_train_F1': array([0.05604203, 1.        , 1.        , 1.        , 0.98924731]), 'mean_train_F1': array([0.06073233, 1.        , 1.        , 1.        , 0.55807525]), 'std_train_F1': array([0.0156419 , 0.        , 0.        , 0.        , 0.37639865])}\n",
      "<class 'dict'>\n"
     ]
    }
   ],
   "source": [
    "aff_NN.printNameAndSocrers()"
   ]
  },
  {
   "cell_type": "markdown",
   "metadata": {},
   "source": [
    "___\n",
    "\n",
    "\n",
    "## Classifieur par SVM\n",
    "Les machines à vecteurs support (SVM) sont des algorithmes d’apprentissage supervisé  utilisées pour la classification et la régression. Elles reposent souvent sur l’utilisation de noyaux qui permettent de transformer l’espace de représentation des données d’entrées en un espace de plus grande dimension, dans lequel il existe une séparation linéaire, le but est de maximiser la distance entre les groupes de données."
   ]
  },
  {
   "cell_type": "markdown",
   "metadata": {},
   "source": [
    "___\n",
    "\n",
    "\n",
    "## Classifieur par Adaboost\n",
    "L’adaptative boosting est un algorithme de boosting qui regroupe plusieurs classifieurs faibles en leur donnant un poids selon leurs performances pour en faire un classifieur fort."
   ]
  },
  {
   "cell_type": "markdown",
   "metadata": {},
   "source": [
    "### Adaboost - Entrainement\n",
    "\n",
    "On entraine sans la recherche d hyper-parametres."
   ]
  },
  {
   "cell_type": "code",
   "execution_count": null,
   "metadata": {},
   "outputs": [],
   "source": [
    "model = adaboostClassifier(X_train, y_train, X_val, y_val, class_names, scorers)\n",
    "accu_train, accu_val = model.train_sans_grid()\n",
    "\n",
    "print('Accuracy train: {:.3%}'.format(accu_train))\n",
    "print('Accuracy validation: {:.3%}'.format(accu_val))\n"
   ]
  },
  {
   "cell_type": "markdown",
   "metadata": {},
   "source": [
    "### Adaboost - Recherche hyper-paramètres\n",
    "\n",
    "On fait une recherche d'hyper-paramètres sur :\n",
    "- `estimator__n_estimators` :  nombre de modèles à entraîner de manière itérative\n",
    "- `estimator__learning_rate` : contribution de chaque modèle aux pondérations"
   ]
  },
  {
   "cell_type": "code",
   "execution_count": null,
   "metadata": {},
   "outputs": [],
   "source": [
    "adaboost_param = {\n",
    "    'estimator__n_estimators': np.arange(10, 100, 10),\n",
    "    'estimator__learning_rate': [0.01, 0.05, 0.1, 1],\n",
    "}\n",
    "\n",
    "model = adaboostClassifier(X_train, y_train, X_val, y_val, class_names, scorers)\n",
    "accu_train_hyperparm, accu_val_hyperparm, best_estimator, best_accu = model.train(adaboost_param, random_search=True)"
   ]
  },
  {
   "cell_type": "code",
   "execution_count": null,
   "metadata": {
    "scrolled": true
   },
   "outputs": [],
   "source": [
    "print('best_cross_val_acc : {}'.format(best_accu))\n",
    "print('\\nBest estimator:\\n{}'.format(best_estimator))\n",
    "\n",
    "print(\"[Estimator parameters]\")\n",
    "display(model.estimator.get_params())\n",
    "\n",
    "print('Accuracy train: {:.3%}'.format(accu_train_hyperparm))\n",
    "print('Accuracy validation: {:.3%}'.format(accu_val_hyperparm))"
   ]
  },
  {
   "cell_type": "code",
   "execution_count": null,
   "metadata": {},
   "outputs": [],
   "source": [
    "# Append accuracy percentage for visual comparison\n",
    "accu_dict[\"AdaBoost\"] = accu_val_hyperparm*100"
   ]
  },
  {
   "cell_type": "markdown",
   "metadata": {},
   "source": [
    "### Adaboost - Prédiction des valeurs de test\n",
    "\n",
    "On peut alors prédire les classes pour l'ensemble de données de test."
   ]
  },
  {
   "cell_type": "code",
   "execution_count": null,
   "metadata": {
    "scrolled": false
   },
   "outputs": [],
   "source": [
    "adaboost_pred = model.predict(X_test)\n",
    "adaboost_pred_label = lblBin.inverse_transform(adaboost_pred)\n",
    "\n",
    "pred_dict[\"AdaBoost\"] = adaboost_pred_label\n",
    "df_pred = pd.DataFrame.from_dict(pred_dict)\n",
    "display(df_pred)\n"
   ]
  },
  {
   "cell_type": "markdown",
   "metadata": {},
   "source": [
    "### Adaboost - Affichage des courbes d'apprentissage\n",
    "\n",
    "On peut afficher les courbes d'apprentissage du modèle si on ne fait varier qu'un seul hyper parametre par une recherche complete."
   ]
  },
  {
   "cell_type": "code",
   "execution_count": null,
   "metadata": {},
   "outputs": [],
   "source": [
    "Ada_param = {\n",
    "    'estimator__n_estimators': np.arange(10, 100, 10)\n",
    "}\n",
    "model = adaboostClassifier(X_train, y_train, X_val, y_val, class_names, scorers)\n",
    "model.train(Ada_param, random_search=False)\n"
   ]
  },
  {
   "cell_type": "code",
   "execution_count": null,
   "metadata": {},
   "outputs": [],
   "source": [
    "\n",
    "\n",
    "aff_Ada = utils_affichage.Affichage(model)\n",
    "\n",
    "#display(aff_Ada.hyper_results())\n",
    "\n",
    "aff_Ada.best_estimators(n_top=2)\n",
    "\n",
    "y_val_pred = model.predict(X_val)\n",
    "display(aff_Ada.class_report(y_val, y_val_pred, mean_only=True))\n",
    "\n",
    "aff_Ada.plot(param_abscissa=\"estimator__n_estimators\")"
   ]
  },
  {
   "cell_type": "markdown",
   "metadata": {},
   "source": [
    "___\n",
    "\n",
    "\n",
    "## Classifieur par Decision trees\n",
    "Une `decision trees` est un méthode d’apprentissage supervisé non paramétrique pour la classification et la régression. Notre objectif est de créer un modèle qui prédit la valeur de la variable cible en apprenant des règles de décision simples déduites des caractéristiques des données. L’arbre peut être considéré comme une approximation constante par segments.\n"
   ]
  },
  {
   "cell_type": "code",
   "execution_count": null,
   "metadata": {
    "scrolled": true
   },
   "outputs": [],
   "source": [
    "decision_tree_classifier = DTSClassifier()\n",
    "depth_max = 20\n",
    "min_samples_split = [2,3,4]\n",
    "criterion = [\"gini\",\"entropy\"]\n",
    "min_samples_leaf = [1,2]\n",
    "accuracy, f1, precision = decision_tree_classifier.cross_validation(data_train_df[:500],labels[:500],range(1,depth_max),min_samples_split,criterion,min_samples_leaf)\n",
    "\n",
    "print(\"Accuracy \",accuracy)\n",
    "print(\"f1 \",f1)\n",
    "print(\"precision \",precision)\n",
    "\n",
    "predictions = decision_tree_classifier.predict(data_train_df[500:])\n",
    "print(ac(predictions,labels[500:]))"
   ]
  },
  {
   "cell_type": "code",
   "execution_count": null,
   "metadata": {},
   "outputs": [],
   "source": [
    "# Append accuracy percentage for visual comparison\n",
    "accu_dict[\"DTS\"] = accuracy*100"
   ]
  },
  {
   "cell_type": "code",
   "execution_count": null,
   "metadata": {
    "scrolled": false
   },
   "outputs": [],
   "source": [
    "decisiontree_pred_label = decision_tree_classifier.predict(data_test_df)\n",
    "\n",
    "pred_dict[\"DTS\"] = decisiontree_pred_label\n",
    "\n",
    "df_pred = pd.DataFrame.from_dict(pred_dict)\n",
    "display(df_pred)\n"
   ]
  },
  {
   "cell_type": "code",
   "execution_count": null,
   "metadata": {},
   "outputs": [],
   "source": [
    "\n",
    "\n",
    "aff_DTS = utils_affichage.Affichage(decision_tree_classifier)\n",
    "\n",
    "#display(aff_Ada.hyper_results())\n",
    "\n",
    "aff_DTS.best_estimators(n_top=2)\n",
    "\n",
    "y_val_pred = decision_tree_classifier.predict(X_val)\n",
    "display(aff_DTS.class_report(y_val, y_val_pred, mean_only=True))\n",
    "\n",
    "aff_DTS.plot(param_abscissa=\"max_depth\")"
   ]
  },
  {
   "cell_type": "markdown",
   "metadata": {},
   "source": [
    "___\n",
    "\n",
    "\n",
    "## Classifieur par KNeighbors\n",
    "Une `KNeighbors` est une méthode d’apprentissage basé sur des exemples ou d’apprentissage non généralisé. Elle ne cherche pas à construire un modèle interne général, mais simplement à stocker des exemples de données de formation. La classification est calculée à la majorité simple des voisins les plus proches de chaque point: une classe de données est attribuée à un point de requête qui a le plus de représentants parmi les voisins les plus proches de ce point.\n"
   ]
  },
  {
   "cell_type": "markdown",
   "metadata": {},
   "source": [
    "___\n",
    "\n",
    "\n",
    "## Classifieur par regression logistique \n",
    "La régression logistique est un algorithme d’apprentissage automatique utilisé dans les problèmes de classification et qui a pour but attribuer des observations à un ensemble discret de classes, c’est un modèle linéaire. Grâce à la fonction sigmoïde logistique, la régression logistique transforme sa sortie en une probabilité d'appartenir à l'une ou à l'autre classe dans le cas binaire."
   ]
  },
  {
   "cell_type": "markdown",
   "metadata": {},
   "source": [
    "___\n",
    "___\n",
    "\n",
    "# 3. Comparaison des résultats\n",
    "\n",
    "On compile les résultats des classifieurs étudiés pour les comparer sur leur 'accuracy'.\n",
    "\n"
   ]
  },
  {
   "cell_type": "code",
   "execution_count": null,
   "metadata": {},
   "outputs": [],
   "source": [
    "___\n",
    "___\n",
    "\n",
    "# 4. Conclusions\n",
    "\n"
   ]
  }
 ],
 "metadata": {
  "kernelspec": {
   "display_name": "Python 3 (ipykernel)",
   "language": "python",
   "name": "python3"
  },
  "language_info": {
   "codemirror_mode": {
    "name": "ipython",
    "version": 3
   },
   "file_extension": ".py",
   "mimetype": "text/x-python",
   "name": "python",
   "nbconvert_exporter": "python",
   "pygments_lexer": "ipython3",
   "version": "3.7.11"
  },
  "pycharm": {
   "stem_cell": {
    "cell_type": "raw",
    "metadata": {
     "collapsed": false
    },
    "source": []
   }
  },
  "vscode": {
   "interpreter": {
    "hash": "5b3d69c228acec43ccb1d94850ec81cd25ddd764b16c8320f7bd382f3b185d11"
   }
  }
 },
 "nbformat": 4,
 "nbformat_minor": 2
}
